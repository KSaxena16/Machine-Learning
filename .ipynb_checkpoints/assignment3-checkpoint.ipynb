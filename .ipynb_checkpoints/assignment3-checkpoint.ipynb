{
 "cells": [
  {
   "cell_type": "code",
   "execution_count": 3,
   "metadata": {},
   "outputs": [
    {
     "name": "stdout",
     "output_type": "stream",
     "text": [
      "P(B|A): None\n"
     ]
    }
   ],
   "source": [
    "#QUESTION1:\n",
    "def cond_prob(a,b,a_b):\n",
    "    #a = probability of event a\n",
    "    #b = probability of event b\n",
    "    #a_b = conditional probability of a given b is already happend\n",
    "    b_a = (a_b*b)/a\n",
    "    #b_a = conditional probability of b given b is already happened\n",
    "    \n",
    "    \n",
    "print(\"P(B|A): {}\".format(cond_prob(11/36,6/36,2/36)))"
   ]
  },
  {
   "cell_type": "code",
   "execution_count": null,
   "metadata": {},
   "outputs": [],
   "source": [
    "#QUESTION2:\n"
   ]
  }
 ],
 "metadata": {
  "kernelspec": {
   "display_name": "Python 3",
   "language": "python",
   "name": "python3"
  },
  "language_info": {
   "codemirror_mode": {
    "name": "ipython",
    "version": 3
   },
   "file_extension": ".py",
   "mimetype": "text/x-python",
   "name": "python",
   "nbconvert_exporter": "python",
   "pygments_lexer": "ipython3",
   "version": "3.7.1"
  }
 },
 "nbformat": 4,
 "nbformat_minor": 2
}
